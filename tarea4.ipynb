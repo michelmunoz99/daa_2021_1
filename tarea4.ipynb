{
  "nbformat": 4,
  "nbformat_minor": 0,
  "metadata": {
    "colab": {
      "name": "tarea4.ipynb",
      "provenance": [],
      "authorship_tag": "ABX9TyPXi5KsD7z6iYka+dhE1nnk",
      "include_colab_link": true
    },
    "kernelspec": {
      "name": "python3",
      "display_name": "Python 3"
    }
  },
  "cells": [
    {
      "cell_type": "markdown",
      "metadata": {
        "id": "view-in-github",
        "colab_type": "text"
      },
      "source": [
        "<a href=\"https://colab.research.google.com/github/michelmunoz99/daa_2021_1/blob/master/tarea4.ipynb\" target=\"_parent\"><img src=\"https://colab.research.google.com/assets/colab-badge.svg\" alt=\"Open In Colab\"/></a>"
      ]
    },
    {
      "cell_type": "code",
      "metadata": {
        "id": "w2kGU4wn5mUh",
        "outputId": "04552698-1338-439f-8b7b-b21259c58bea",
        "colab": {
          "base_uri": "https://localhost:8080/",
          "height": 119
        }
      },
      "source": [
        "def main():\n",
        "\n",
        "    def ejemplo4(n):\n",
        "        count = 0\n",
        "        i = n\n",
        "        print('Este es el nivel 1, i =', i)\n",
        "        while i >= 1:\n",
        "            count += 1\n",
        "            i = i // 2\n",
        "            print('Este es el nivel 2, i =', i)\n",
        "        basura = 3 + 2\n",
        "        return count\n",
        "    \n",
        "    ejemplo4(int(input('Ingrese el valor a iterar: ')))\n",
        "\n",
        "        \n",
        "\n",
        "if __name__ == \"__main__\":\n",
        "    main()"
      ],
      "execution_count": 29,
      "outputs": [
        {
          "output_type": "stream",
          "text": [
            "Ingrese el valor a iterar: 13\n",
            "Este es el nivel 1, i = 13\n",
            "Este es el nivel 2, i = 6\n",
            "Este es el nivel 2, i = 3\n",
            "Este es el nivel 2, i = 1\n",
            "Este es el nivel 2, i = 0\n"
          ],
          "name": "stdout"
        }
      ]
    }
  ]
}