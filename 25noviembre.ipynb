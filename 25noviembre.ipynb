{
  "nbformat": 4,
  "nbformat_minor": 0,
  "metadata": {
    "colab": {
      "name": "25noviembre.ipynb",
      "provenance": [],
      "authorship_tag": "ABX9TyNHD3T52C63W8U3qSlek5Mf",
      "include_colab_link": true
    },
    "kernelspec": {
      "name": "python3",
      "display_name": "Python 3"
    }
  },
  "cells": [
    {
      "cell_type": "markdown",
      "metadata": {
        "id": "view-in-github",
        "colab_type": "text"
      },
      "source": [
        "<a href=\"https://colab.research.google.com/github/michelmunoz99/daa_2021_1/blob/master/25noviembre.ipynb\" target=\"_parent\"><img src=\"https://colab.research.google.com/assets/colab-badge.svg\" alt=\"Open In Colab\"/></a>"
      ]
    },
    {
      "cell_type": "code",
      "metadata": {
        "colab": {
          "base_uri": "https://localhost:8080/"
        },
        "id": "hpu5wfYarDhH",
        "outputId": "c23881f5-6df2-446a-b1ba-e8fab57d28c0"
      },
      "source": [
        "frase = \"\"\"El lema que anima a la Universidad Nacional, Por mi raza hablará el espíritu, revela la vocación humanística con la que fue concebida. El autor de esta célebre frase, José Vasconcelos, asumió la rectoría en 1920, en una época en que las esperanzas de la Revolución aún estaban vivas,\n",
        " había una gran fé en la Patria y el ánimo redentor se extendía en el ambiente.\"\"\"\n",
        "\n",
        "frase = frase.strip().replace(\"\\n\",\"\").replace(\",\",\"\").replace(\".\",\"\").lower().split(\" \")\n",
        "print(frase)\n",
        "frecuencias = {}\n",
        "for index in range(len(frase)):\n",
        "    if frase[index] in frecuencias: #'el' in frecuencias:\n",
        "        pass\n",
        "    else: \n",
        "        frecuencias[frase[index]] = 1 #frecuencias['el'] = 1 --> {'el'+1}\n",
        "        for pivote in range(index +1,len(frase),1):\n",
        "            #print(frase[index], \"comparada contra: \" , frase[ pivote ])\n",
        "            if frase[index] == frase[pivote]:\n",
        "                frecuencias[frase[index]] += 1\n",
        "\n",
        "print(frecuencias)"
      ],
      "execution_count": 1,
      "outputs": [
        {
          "output_type": "stream",
          "text": [
            "['el', 'lema', 'que', 'anima', 'a', 'la', 'universidad', 'nacional', 'por', 'mi', 'raza', 'hablará', 'el', 'espíritu', 'revela', 'la', 'vocación', 'humanística', 'con', 'la', 'que', 'fue', 'concebida', 'el', 'autor', 'de', 'esta', 'célebre', 'frase', 'josé', 'vasconcelos', 'asumió', 'la', 'rectoría', 'en', '1920', 'en', 'una', 'época', 'en', 'que', 'las', 'esperanzas', 'de', 'la', 'revolución', 'aún', 'estaban', 'vivas', 'había', 'una', 'gran', 'fé', 'en', 'la', 'patria', 'y', 'el', 'ánimo', 'redentor', 'se', 'extendía', 'en', 'el', 'ambiente']\n",
            "{'el': 5, 'lema': 1, 'que': 3, 'anima': 1, 'a': 1, 'la': 6, 'universidad': 1, 'nacional': 1, 'por': 1, 'mi': 1, 'raza': 1, 'hablará': 1, 'espíritu': 1, 'revela': 1, 'vocación': 1, 'humanística': 1, 'con': 1, 'fue': 1, 'concebida': 1, 'autor': 1, 'de': 2, 'esta': 1, 'célebre': 1, 'frase': 1, 'josé': 1, 'vasconcelos': 1, 'asumió': 1, 'rectoría': 1, 'en': 5, '1920': 1, 'una': 2, 'época': 1, 'las': 1, 'esperanzas': 1, 'revolución': 1, 'aún': 1, 'estaban': 1, 'vivas': 1, 'había': 1, 'gran': 1, 'fé': 1, 'patria': 1, 'y': 1, 'ánimo': 1, 'redentor': 1, 'se': 1, 'extendía': 1, 'ambiente': 1}\n"
          ],
          "name": "stdout"
        }
      ]
    },
    {
      "cell_type": "code",
      "metadata": {
        "colab": {
          "base_uri": "https://localhost:8080/"
        },
        "id": "RJ-wBukHrJOf",
        "outputId": "91d6103a-b9a0-4705-edd1-4caba64b8329"
      },
      "source": [
        "frase = \"\"\"El lema que anima a la Universidad Nacional, Por mi raza hablará el espíritu, revela la vocación humanística con la que fue concebida. El autor de esta célebre frase, José Vasconcelos, asumió la rectoría en 1920, en una época en que las esperanzas de la Revolución aún estaban vivas,\n",
        " había una gran fé en la Patria y el ánimo redentor se extendía en el ambiente.\"\"\"\n",
        "\n",
        "frase = frase.strip().replace(\"\\n\",\"\").replace(\",\",\"\").replace(\".\",\"\").lower().split(\" \")\n",
        "print(frase)\n",
        "frecuencias = {}\n",
        "for index in range(len(frase)):\n",
        "    print(hash(frase[index]))\n",
        "    if frase[index] in frecuencias:\n",
        "        frecuencias[frase[index]] += 1\n",
        "    else: \n",
        "        frecuencias[frase[index]] = 1\n",
        "print(frecuencias)"
      ],
      "execution_count": 2,
      "outputs": [
        {
          "output_type": "stream",
          "text": [
            "['el', 'lema', 'que', 'anima', 'a', 'la', 'universidad', 'nacional', 'por', 'mi', 'raza', 'hablará', 'el', 'espíritu', 'revela', 'la', 'vocación', 'humanística', 'con', 'la', 'que', 'fue', 'concebida', 'el', 'autor', 'de', 'esta', 'célebre', 'frase', 'josé', 'vasconcelos', 'asumió', 'la', 'rectoría', 'en', '1920', 'en', 'una', 'época', 'en', 'que', 'las', 'esperanzas', 'de', 'la', 'revolución', 'aún', 'estaban', 'vivas', 'había', 'una', 'gran', 'fé', 'en', 'la', 'patria', 'y', 'el', 'ánimo', 'redentor', 'se', 'extendía', 'en', 'el', 'ambiente']\n",
            "-4113168798876599857\n",
            "-1523714753699324389\n",
            "-8226913431938128644\n",
            "-53242365933280562\n",
            "3805640918202752779\n",
            "-7524522101839541372\n",
            "-2071428195567598440\n",
            "-4332587491665004141\n",
            "6657962405725127861\n",
            "-5374532848808294609\n",
            "-1086215242004324892\n",
            "5970986456838392764\n",
            "-4113168798876599857\n",
            "-5077949758639635713\n",
            "8931649407402530790\n",
            "-7524522101839541372\n",
            "-4863556023251021007\n",
            "-5722227761094063069\n",
            "-1902607640505214741\n",
            "-7524522101839541372\n",
            "-8226913431938128644\n",
            "-7017040290987263792\n",
            "-1102570658575082090\n",
            "-4113168798876599857\n",
            "2907001308039021990\n",
            "683866555118694680\n",
            "-8824447773972445365\n",
            "-6041833248916431989\n",
            "-1198201484935322360\n",
            "6374010182245430017\n",
            "-5495360800876037283\n",
            "3621058761152584523\n",
            "-7524522101839541372\n",
            "-535247896910331294\n",
            "7339637779313467635\n",
            "2474542179320392347\n",
            "7339637779313467635\n",
            "735232665812422168\n",
            "-8394717822245940887\n",
            "7339637779313467635\n",
            "-8226913431938128644\n",
            "2122315983540389364\n",
            "-1473525965019731595\n",
            "683866555118694680\n",
            "-7524522101839541372\n",
            "4301686528223871900\n",
            "-5917696470114788948\n",
            "-4794098387415417221\n",
            "1381725011446400764\n",
            "-2499184034830748487\n",
            "735232665812422168\n",
            "8969957650054094046\n",
            "1214136060313238744\n",
            "7339637779313467635\n",
            "-7524522101839541372\n",
            "-3952213974119879269\n",
            "6987616561859729030\n",
            "-4113168798876599857\n",
            "519417248751051586\n",
            "1932173212634836969\n",
            "7327320980476614387\n",
            "4002660304215027170\n",
            "7339637779313467635\n",
            "-4113168798876599857\n",
            "-5977909068171727247\n",
            "{'el': 5, 'lema': 1, 'que': 3, 'anima': 1, 'a': 1, 'la': 6, 'universidad': 1, 'nacional': 1, 'por': 1, 'mi': 1, 'raza': 1, 'hablará': 1, 'espíritu': 1, 'revela': 1, 'vocación': 1, 'humanística': 1, 'con': 1, 'fue': 1, 'concebida': 1, 'autor': 1, 'de': 2, 'esta': 1, 'célebre': 1, 'frase': 1, 'josé': 1, 'vasconcelos': 1, 'asumió': 1, 'rectoría': 1, 'en': 5, '1920': 1, 'una': 2, 'época': 1, 'las': 1, 'esperanzas': 1, 'revolución': 1, 'aún': 1, 'estaban': 1, 'vivas': 1, 'había': 1, 'gran': 1, 'fé': 1, 'patria': 1, 'y': 1, 'ánimo': 1, 'redentor': 1, 'se': 1, 'extendía': 1, 'ambiente': 1}\n"
          ],
          "name": "stdout"
        }
      ]
    }
  ]
}