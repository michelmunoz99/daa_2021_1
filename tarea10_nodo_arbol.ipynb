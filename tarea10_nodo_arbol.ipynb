{
  "nbformat": 4,
  "nbformat_minor": 0,
  "metadata": {
    "colab": {
      "name": "tarea10_nodo_arbol.ipynb",
      "provenance": [],
      "authorship_tag": "ABX9TyMNggPAYG1Sbj30KzaFKQKM",
      "include_colab_link": true
    },
    "kernelspec": {
      "name": "python3",
      "display_name": "Python 3"
    }
  },
  "cells": [
    {
      "cell_type": "markdown",
      "metadata": {
        "id": "view-in-github",
        "colab_type": "text"
      },
      "source": [
        "<a href=\"https://colab.research.google.com/github/michelmunoz99/daa_2021_1/blob/master/tarea10_nodo_arbol.ipynb\" target=\"_parent\"><img src=\"https://colab.research.google.com/assets/colab-badge.svg\" alt=\"Open In Colab\"/></a>"
      ]
    },
    {
      "cell_type": "code",
      "metadata": {
        "id": "QFdVphjZ7yDV"
      },
      "source": [
        "class NodoArbol:\n",
        "  def __init__(self, value, left = None, right = None):\n",
        "    self.data = value\n",
        "    self.left = left\n",
        "    self.right = right\n",
        "\n",
        "  def nodo_hoja(self, a):\n",
        "    if a == None:\n",
        "      return None\n",
        "    else:\n",
        "      self.nodo_hoja(a.left)\n",
        "      self.nodo_hoja(a.right)\n",
        "      if a.left == None and a.right == None:\n",
        "        print(a.data)\n",
        "\n"
      ],
      "execution_count": 24,
      "outputs": []
    },
    {
      "cell_type": "code",
      "metadata": {
        "colab": {
          "base_uri": "https://localhost:8080/"
        },
        "id": "EovPGR0-8Qud",
        "outputId": "9c6b7d9a-bded-4d2d-9a4c-3cd087d5974a"
      },
      "source": [
        "arbol_1 = NodoArbol(4, NodoArbol(3, NodoArbol(2, NodoArbol(2))), NodoArbol(5, None, None))\n",
        "arbol_1.nodo_hoja(arbol_1)\n"
      ],
      "execution_count": 25,
      "outputs": [
        {
          "output_type": "stream",
          "text": [
            "2\n",
            "5\n"
          ],
          "name": "stdout"
        }
      ]
    },
    {
      "cell_type": "code",
      "metadata": {
        "colab": {
          "base_uri": "https://localhost:8080/"
        },
        "id": "RDAO87pT9BF-",
        "outputId": "7c55622d-4eaa-4ee0-e493-aeadf1d40f88"
      },
      "source": [
        "arbol_2 = NodoArbol(4, NodoArbol(3, NodoArbol(1, NodoArbol(7))), NodoArbol(2))\n",
        "arbol_2.nodo_hoja(arbol_2)\n"
      ],
      "execution_count": 26,
      "outputs": [
        {
          "output_type": "stream",
          "text": [
            "7\n",
            "2\n"
          ],
          "name": "stdout"
        }
      ]
    },
    {
      "cell_type": "code",
      "metadata": {
        "colab": {
          "base_uri": "https://localhost:8080/"
        },
        "id": "X7jKA1YA9A1G",
        "outputId": "c06aa4a4-cc7f-4282-d1a0-9bfd91724636"
      },
      "source": [
        "arbol_3 = NodoArbol(3, NodoArbol(12, NodoArbol(13, NodoArbol(23, NodoArbol(8, NodoArbol(9, NodoArbol(666)))))), NodoArbol(22))\n",
        "arbol_3.nodo_hoja(arbol_3)\n"
      ],
      "execution_count": 27,
      "outputs": [
        {
          "output_type": "stream",
          "text": [
            "666\n",
            "22\n"
          ],
          "name": "stdout"
        }
      ]
    },
    {
      "cell_type": "code",
      "metadata": {
        "colab": {
          "base_uri": "https://localhost:8080/"
        },
        "id": "h97ZRoIE9AR3",
        "outputId": "cbd80e3f-7b28-4ab6-a4f5-ef6b25f27703"
      },
      "source": [
        "arbol_4 = NodoArbol(29, NodoArbol(15, NodoArbol(139, NodoArbol(12, NodoArbol(150, NodoArbol(100, NodoArbol(777, NodoArbol(123, NodoArbol(222, NodoArbol(333, NodoArbol(99, NodoArbol(3, NodoArbol(11)))))))))))), NodoArbol(5, NodoArbol(12)))\n",
        "arbol_4.nodo_hoja(arbol_4)"
      ],
      "execution_count": 32,
      "outputs": [
        {
          "output_type": "stream",
          "text": [
            "11\n",
            "12\n"
          ],
          "name": "stdout"
        }
      ]
    }
  ]
}