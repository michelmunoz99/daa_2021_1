{
  "nbformat": 4,
  "nbformat_minor": 0,
  "metadata": {
    "colab": {
      "name": "13enero.ipynb",
      "provenance": [],
      "authorship_tag": "ABX9TyOUxFVvNE/Q7qtaxEbaZ7Je",
      "include_colab_link": true
    },
    "kernelspec": {
      "name": "python3",
      "display_name": "Python 3"
    }
  },
  "cells": [
    {
      "cell_type": "markdown",
      "metadata": {
        "id": "view-in-github",
        "colab_type": "text"
      },
      "source": [
        "<a href=\"https://colab.research.google.com/github/michelmunoz99/daa_2021_1/blob/master/13enero.ipynb\" target=\"_parent\"><img src=\"https://colab.research.google.com/assets/colab-badge.svg\" alt=\"Open In Colab\"/></a>"
      ]
    },
    {
      "cell_type": "code",
      "metadata": {
        "id": "hgfLEKuAeAhr"
      },
      "source": [
        "class NodoArbol:\n",
        "  def __init__( self , dato ,  hijo_izq=None , hijo_der=None):\n",
        "    self.dato = dato\n",
        "    self.left = hijo_izq\n",
        "    self.right = hijo_der"
      ],
      "execution_count": 2,
      "outputs": []
    },
    {
      "cell_type": "markdown",
      "metadata": {
        "id": "HKk4NkINeHHv"
      },
      "source": [
        "## Arbol Binario de Busqueda\n",
        "\n",
        "Los nodos a la izquierda son menores a la raiz y los nodos de la derecha son mayores a la raiz, pueden ser recorridos en preorden, inorden y posorden"
      ]
    },
    {
      "cell_type": "code",
      "metadata": {
        "id": "WGcC-GzreEWq"
      },
      "source": [
        "class BinarySearchTree:\n",
        "  def __init__(self):\n",
        "    self.__root = None\n",
        "\n",
        "  def insert(self, value):\n",
        "    if self.__root == None:\n",
        "      self.__root = NodoArbol(value, None, None)\n",
        "    else:\n",
        "      \"\"\"preguntar si value es menor o mayor que root \"\"\"\n",
        "      self.__InsertNodo__(self.__root, value)\n",
        "  \n",
        "  def InsertNodo(self, nodo,value):\n",
        "    if nodo.dato == value:\n",
        "      pass\n",
        "    elif value < nodo.dato:#True, va a la izquierda\n",
        "      if nodo.left == None:#revisar si hay espacio a la izquierda \n",
        "        nodo.left = NodoArbol(value, None,None)#insertamos\n",
        "      else:\n",
        "        self.__InsertNodo__(nodo.left, value)\n",
        "    else:\n",
        "      if nodo.right == None:\n",
        "        nodo.right = NodoArbol(value, None, None)\n",
        "      else:\n",
        "        self.__InsertNodo__(nodo.right, value)"
      ],
      "execution_count": 1,
      "outputs": []
    },
    {
      "cell_type": "code",
      "metadata": {
        "id": "I1kaWSXxebH9"
      },
      "source": [
        "bst = BinarySearchTree()\n",
        "bst.insert( 50 )\n",
        "bst.insert( 30 )\n",
        "bst.insert( 20 )\n",
        "bst.search( 30 ) #True o False"
      ],
      "execution_count": null,
      "outputs": []
    }
  ]
}