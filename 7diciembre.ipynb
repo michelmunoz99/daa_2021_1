{
  "nbformat": 4,
  "nbformat_minor": 0,
  "metadata": {
    "colab": {
      "name": "7diciembre.ipynb",
      "provenance": [],
      "authorship_tag": "ABX9TyOkx4D7fIUVWWNc693acjNC",
      "include_colab_link": true
    },
    "kernelspec": {
      "name": "python3",
      "display_name": "Python 3"
    }
  },
  "cells": [
    {
      "cell_type": "markdown",
      "metadata": {
        "id": "view-in-github",
        "colab_type": "text"
      },
      "source": [
        "<a href=\"https://colab.research.google.com/github/michelmunoz99/daa_2021_1/blob/master/7diciembre.ipynb\" target=\"_parent\"><img src=\"https://colab.research.google.com/assets/colab-badge.svg\" alt=\"Open In Colab\"/></a>"
      ]
    },
    {
      "cell_type": "code",
      "metadata": {
        "id": "-o2_7-RB6xJY",
        "colab": {
          "base_uri": "https://localhost:8080/"
        },
        "outputId": "9251f6f7-b76f-406a-df10-730ff8ef638a"
      },
      "source": [
        "def fibonacci( n ):\n",
        "    print(\"Llamada:\",n)\n",
        "    if  n == 1 or n == 0:\n",
        "        return n\n",
        "    else:\n",
        "        return ( fibonacci(n-1) + fibonacci(n-2) )\n",
        "\n",
        "print(fibonacci(6))\n"
      ],
      "execution_count": 5,
      "outputs": [
        {
          "output_type": "stream",
          "text": [
            "Llamada: 6\n",
            "Llamada: 5\n",
            "Llamada: 4\n",
            "Llamada: 3\n",
            "Llamada: 2\n",
            "Llamada: 1\n",
            "Llamada: 0\n",
            "Llamada: 1\n",
            "Llamada: 2\n",
            "Llamada: 1\n",
            "Llamada: 0\n",
            "Llamada: 3\n",
            "Llamada: 2\n",
            "Llamada: 1\n",
            "Llamada: 0\n",
            "Llamada: 1\n",
            "Llamada: 4\n",
            "Llamada: 3\n",
            "Llamada: 2\n",
            "Llamada: 1\n",
            "Llamada: 0\n",
            "Llamada: 1\n",
            "Llamada: 2\n",
            "Llamada: 1\n",
            "Llamada: 0\n",
            "8\n"
          ],
          "name": "stdout"
        }
      ]
    }
  ]
}