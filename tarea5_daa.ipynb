{
  "nbformat": 4,
  "nbformat_minor": 0,
  "metadata": {
    "colab": {
      "name": "tarea5_daa.ipynb",
      "provenance": [],
      "authorship_tag": "ABX9TyNuHhDiRbiiyZ81b0FIl1Dx",
      "include_colab_link": true
    },
    "kernelspec": {
      "name": "python3",
      "display_name": "Python 3"
    }
  },
  "cells": [
    {
      "cell_type": "markdown",
      "metadata": {
        "id": "view-in-github",
        "colab_type": "text"
      },
      "source": [
        "<a href=\"https://colab.research.google.com/github/michelmunoz99/daa_2021_1/blob/master/tarea5_daa.ipynb\" target=\"_parent\"><img src=\"https://colab.research.google.com/assets/colab-badge.svg\" alt=\"Open In Colab\"/></a>"
      ]
    },
    {
      "cell_type": "code",
      "metadata": {
        "id": "HaSXO3kPe6bx",
        "outputId": "156c9bec-ec32-4984-f8e5-aba3004b6085",
        "colab": {
          "base_uri": "https://localhost:8080/",
          "height": 357
        }
      },
      "source": [
        "from time import time\n",
        "\n",
        "def ejemplo1( n ):\n",
        "    start_time = time()\n",
        "    c = n + 1\n",
        "    d = c * n\n",
        "    e = n * n\n",
        "    total = c + e - d\n",
        "    elapsed_time = time() - start_time\n",
        "    print(\"Tiempo transcurrido: %0.10f segundos.\" % elapsed_time)\n",
        "    print(f\"total={ total }\")\n",
        "for entrada in range(100, 1100, 100):\n",
        "    ejemplo1(entrada)\n",
        "# T(n) = 4\n"
      ],
      "execution_count": null,
      "outputs": [
        {
          "output_type": "stream",
          "text": [
            "Tiempo transcurrido: 0.0000009537 segundos.\n",
            "total=1\n",
            "Tiempo transcurrido: 0.0000007153 segundos.\n",
            "total=1\n",
            "Tiempo transcurrido: 0.0000009537 segundos.\n",
            "total=1\n",
            "Tiempo transcurrido: 0.0000009537 segundos.\n",
            "total=1\n",
            "Tiempo transcurrido: 0.0000004768 segundos.\n",
            "total=1\n",
            "Tiempo transcurrido: 0.0000004768 segundos.\n",
            "total=1\n",
            "Tiempo transcurrido: 0.0000004768 segundos.\n",
            "total=1\n",
            "Tiempo transcurrido: 0.0000004768 segundos.\n",
            "total=1\n",
            "Tiempo transcurrido: 0.0000004768 segundos.\n",
            "total=1\n",
            "Tiempo transcurrido: 0.0000004768 segundos.\n",
            "total=1\n"
          ],
          "name": "stdout"
        }
      ]
    },
    {
      "cell_type": "code",
      "metadata": {
        "id": "P2XsMs0Haj3c",
        "outputId": "b881b69b-963d-43e9-be1a-b0710ee04f4c",
        "colab": {
          "base_uri": "https://localhost:8080/",
          "height": 187
        }
      },
      "source": [
        "from time import time\n",
        "\n",
        "def ejemplo2( n ):\n",
        "    start_time = time()\n",
        "    contador = 0\n",
        "    for i in range( n ) :\n",
        "        for j in range( n ) :\n",
        "            contador += 1\n",
        "    elapsed_time = time() - start_time\n",
        "    print(\"Tiempo transcurrido: %0.10f segundos.\" % elapsed_time)\n",
        "    return contador\n",
        "\n",
        "for entrada in range(100, 1100, 100):\n",
        "    ejemplo2(entrada)\n",
        "# T(n) = 1 + n^2\n"
      ],
      "execution_count": null,
      "outputs": [
        {
          "output_type": "stream",
          "text": [
            "Tiempo transcurrido: 0.0019850731 segundos.\n",
            "Tiempo transcurrido: 0.0029077530 segundos.\n",
            "Tiempo transcurrido: 0.0047678947 segundos.\n",
            "Tiempo transcurrido: 0.0090551376 segundos.\n",
            "Tiempo transcurrido: 0.0222258568 segundos.\n",
            "Tiempo transcurrido: 0.0198934078 segundos.\n",
            "Tiempo transcurrido: 0.0256524086 segundos.\n",
            "Tiempo transcurrido: 0.0332255363 segundos.\n",
            "Tiempo transcurrido: 0.0416769981 segundos.\n",
            "Tiempo transcurrido: 0.0532867908 segundos.\n"
          ],
          "name": "stdout"
        }
      ]
    },
    {
      "cell_type": "code",
      "metadata": {
        "id": "nELmfg57c0Gg",
        "outputId": "a7d3abbf-655b-4db1-84c4-1be41efff195",
        "colab": {
          "base_uri": "https://localhost:8080/",
          "height": 187
        }
      },
      "source": [
        "from time import time\n",
        "\n",
        "def ejemplo3(n):\n",
        "    start_time = time()\n",
        "    x = n * 2\n",
        "    y = 0\n",
        "    for m in range(100):\n",
        "        y = x - n\n",
        "    elapsed_time = time() - start_time\n",
        "    print(\"Tiempo transcurrido: %0.10f segundos.\" % elapsed_time)\n",
        "    return y\n",
        "\n",
        "for entrada in range(100, 1100, 100):\n",
        "    ejemplo3(entrada)\n",
        "# T(n) = 102\n"
      ],
      "execution_count": null,
      "outputs": [
        {
          "output_type": "stream",
          "text": [
            "Tiempo transcurrido: 0.0000073910 segundos.\n",
            "Tiempo transcurrido: 0.0000076294 segundos.\n",
            "Tiempo transcurrido: 0.0000090599 segundos.\n",
            "Tiempo transcurrido: 0.0000090599 segundos.\n",
            "Tiempo transcurrido: 0.0000083447 segundos.\n",
            "Tiempo transcurrido: 0.0000085831 segundos.\n",
            "Tiempo transcurrido: 0.0000095367 segundos.\n",
            "Tiempo transcurrido: 0.0000088215 segundos.\n",
            "Tiempo transcurrido: 0.0000088215 segundos.\n",
            "Tiempo transcurrido: 0.0000262260 segundos.\n"
          ],
          "name": "stdout"
        }
      ]
    },
    {
      "cell_type": "code",
      "metadata": {
        "id": "3Ed8svMVfwTe",
        "outputId": "161fefe8-79eb-4325-c7b6-2186f85ef0a3",
        "colab": {
          "base_uri": "https://localhost:8080/",
          "height": 187
        }
      },
      "source": [
        "from time import time\n",
        "\n",
        "def ejemplo4( n ):\n",
        "    start_time = time()\n",
        "    x = 3 * 3.1416 + n\n",
        "    y = x + 3 * 3 - n\n",
        "    z = x + y\n",
        "    elapsed_time = time() - start_time\n",
        "    print(\"Tiempo transcurrido: %0.10f segundos.\" % elapsed_time)\n",
        "    return z\n",
        "\n",
        "for entrada in range(100, 1100, 100):\n",
        "    ejemplo4(entrada)\n",
        "# T(n) = 3\n"
      ],
      "execution_count": null,
      "outputs": [
        {
          "output_type": "stream",
          "text": [
            "Tiempo transcurrido: 0.0000011921 segundos.\n",
            "Tiempo transcurrido: 0.0000011921 segundos.\n",
            "Tiempo transcurrido: 0.0000004768 segundos.\n",
            "Tiempo transcurrido: 0.0000002384 segundos.\n",
            "Tiempo transcurrido: 0.0000002384 segundos.\n",
            "Tiempo transcurrido: 0.0000002384 segundos.\n",
            "Tiempo transcurrido: 0.0000002384 segundos.\n",
            "Tiempo transcurrido: 0.0000002384 segundos.\n",
            "Tiempo transcurrido: 0.0000002384 segundos.\n",
            "Tiempo transcurrido: 0.0000002384 segundos.\n"
          ],
          "name": "stdout"
        }
      ]
    },
    {
      "cell_type": "code",
      "metadata": {
        "id": "uCY0NwWhgaCP",
        "outputId": "554eebbb-f77a-4765-da97-901c9c847f4b",
        "colab": {
          "base_uri": "https://localhost:8080/",
          "height": 187
        }
      },
      "source": [
        "from time import time\n",
        "\n",
        "def ejemplo5( x ):\n",
        "    start_time = time()\n",
        "    n = 10\n",
        "    for j in range( 0 , x , 1 ):\n",
        "        n = j + n\n",
        "    elapsed_time = time() - start_time\n",
        "    print(\"Tiempo transcurrido: %0.10f segundos.\" % elapsed_time)\n",
        "    return n\n",
        "\n",
        "for entrada in range(100, 1100, 100):\n",
        "    ejemplo5(entrada)\n",
        "# T(x) = 1 + x\n"
      ],
      "execution_count": null,
      "outputs": [
        {
          "output_type": "stream",
          "text": [
            "Tiempo transcurrido: 0.0000104904 segundos.\n",
            "Tiempo transcurrido: 0.0000147820 segundos.\n",
            "Tiempo transcurrido: 0.0000219345 segundos.\n",
            "Tiempo transcurrido: 0.0000264645 segundos.\n",
            "Tiempo transcurrido: 0.0000395775 segundos.\n",
            "Tiempo transcurrido: 0.0000476837 segundos.\n",
            "Tiempo transcurrido: 0.0000569820 segundos.\n",
            "Tiempo transcurrido: 0.0000619888 segundos.\n",
            "Tiempo transcurrido: 0.0000972748 segundos.\n",
            "Tiempo transcurrido: 0.0000796318 segundos.\n"
          ],
          "name": "stdout"
        }
      ]
    },
    {
      "cell_type": "code",
      "metadata": {
        "id": "7DCA9Cz-npqX",
        "outputId": "80e6aa02-be59-4de1-f574-e3a8af0e0491",
        "colab": {
          "base_uri": "https://localhost:8080/",
          "height": 187
        }
      },
      "source": [
        "from time import time\n",
        "\n",
        "def ejemplo6( n ):\n",
        "    start_time = time()\n",
        "    data=[[[1 for x in range(n)] for x in range(n)] \n",
        "          for x in range(n)]\n",
        "    suma = 0\n",
        "    for d in range(n):\n",
        "        for r in range(n):\n",
        "            for c in range(n):\n",
        "                suma += data[d][r][c]\n",
        "    elapsed_time = time() - start_time\n",
        "    print(\"Tiempo transcurrido: %0.10f segundos.\" % elapsed_time)\n",
        "    return suma\n",
        "for entrada in range(100, 1100, 100):\n",
        "    ejemplo6(entrada)\n",
        "# T(n) = 2 + n^3"
      ],
      "execution_count": null,
      "outputs": [
        {
          "output_type": "stream",
          "text": [
            "Tiempo transcurrido: 0.1271543503 segundos.\n",
            "Tiempo transcurrido: 1.1214296818 segundos.\n",
            "Tiempo transcurrido: 3.6337397099 segundos.\n",
            "Tiempo transcurrido: 8.6273136139 segundos.\n",
            "Tiempo transcurrido: 17.5303323269 segundos.\n",
            "Tiempo transcurrido: 33.2833490372 segundos.\n",
            "Tiempo transcurrido: 51.7544102669 segundos.\n",
            "Tiempo transcurrido: 80.1667358875 segundos.\n",
            "Tiempo transcurrido: 109.7234559059 segundos.\n",
            "Tiempo transcurrido: 156.1047496796 segundos.\n"
          ],
          "name": "stdout"
        }
      ]
    }
  ]
}