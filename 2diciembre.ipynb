{
  "nbformat": 4,
  "nbformat_minor": 0,
  "metadata": {
    "colab": {
      "name": "2diciembre.ipynb",
      "provenance": [],
      "authorship_tag": "ABX9TyNZyjoRmdqN70jt8wehrHt2",
      "include_colab_link": true
    },
    "kernelspec": {
      "name": "python3",
      "display_name": "Python 3"
    }
  },
  "cells": [
    {
      "cell_type": "markdown",
      "metadata": {
        "id": "view-in-github",
        "colab_type": "text"
      },
      "source": [
        "<a href=\"https://colab.research.google.com/github/michelmunoz99/daa_2021_1/blob/master/2diciembre.ipynb\" target=\"_parent\"><img src=\"https://colab.research.google.com/assets/colab-badge.svg\" alt=\"Open In Colab\"/></a>"
      ]
    },
    {
      "cell_type": "code",
      "metadata": {
        "id": "aPLgTm9g_3rM"
      },
      "source": [
        "def fnRecInfinita():\n",
        "    print(\"Hola\")\n",
        "    fnRecInfinita()"
      ],
      "execution_count": null,
      "outputs": []
    },
    {
      "cell_type": "code",
      "metadata": {
        "id": "tiAJPMPVAHT6"
      },
      "source": [
        "fnRecInfinita()"
      ],
      "execution_count": null,
      "outputs": []
    },
    {
      "cell_type": "code",
      "metadata": {
        "colab": {
          "base_uri": "https://localhost:8080/"
        },
        "id": "buUQxrbvAi_f",
        "outputId": "4e1171ec-7008-46e5-c714-ec1b3ab8f66d"
      },
      "source": [
        "def fnRec(x):\n",
        "    if x == 0:\n",
        "        print(\"STOP\")\n",
        "    else:\n",
        "        fnRec(x-1)\n",
        "        print(x)\n",
        "\n",
        "def main():\n",
        "    print(\"Inicio del programa\")\n",
        "    fnRec(5)\n",
        "    print(\"Fin del programa\")\n",
        "\n",
        "main()"
      ],
      "execution_count": null,
      "outputs": [
        {
          "output_type": "stream",
          "text": [
            "Inicio del programa\n",
            "STOP\n",
            "1\n",
            "2\n",
            "3\n",
            "4\n",
            "5\n",
            "Fin del programa\n"
          ],
          "name": "stdout"
        }
      ]
    },
    {
      "cell_type": "code",
      "metadata": {
        "colab": {
          "base_uri": "https://localhost:8080/"
        },
        "id": "9sppjX48CVHy",
        "outputId": "d27a586f-70fb-46e2-f3b7-fd1195f12e00"
      },
      "source": [
        "def printRev(x):\n",
        "    if x > 0:\n",
        "        print(x)\n",
        "        printRev(x-1)\n",
        "    else:\n",
        "        print(\"No se cumple\")\n",
        "\n",
        "printRev(3)"
      ],
      "execution_count": null,
      "outputs": [
        {
          "output_type": "stream",
          "text": [
            "3\n",
            "2\n",
            "1\n",
            "No se cumple\n"
          ],
          "name": "stdout"
        }
      ]
    },
    {
      "cell_type": "code",
      "metadata": {
        "colab": {
          "base_uri": "https://localhost:8080/"
        },
        "id": "UdXRZ_xsEkIb",
        "outputId": "e01a098b-c366-431f-d223-7d6911d19bff"
      },
      "source": [
        "def printRev(x):\n",
        "    if x > 0:\n",
        "        printRev(x-1)\n",
        "        print(x)\n",
        "    else:\n",
        "        print(\"No se cumple\")\n",
        "\n",
        "printRev(3)"
      ],
      "execution_count": 8,
      "outputs": [
        {
          "output_type": "stream",
          "text": [
            "No se cumple\n",
            "1\n",
            "2\n",
            "3\n"
          ],
          "name": "stdout"
        }
      ]
    },
    {
      "cell_type": "code",
      "metadata": {
        "colab": {
          "base_uri": "https://localhost:8080/"
        },
        "id": "4Ir8iW92JUwm",
        "outputId": "2c653450-8cf6-476d-e331-924152b162fc"
      },
      "source": [
        "def fibonacci(n):\n",
        "    if n == 1 or n == 0:\n",
        "        return n\n",
        "    else:\n",
        "        return(fibonacci(n-1) + fibonacci(n-2))\n",
        "\n",
        "print(fibonacci(8))"
      ],
      "execution_count": 13,
      "outputs": [
        {
          "output_type": "stream",
          "text": [
            "21\n"
          ],
          "name": "stdout"
        }
      ]
    }
  ]
}