{
  "nbformat": 4,
  "nbformat_minor": 0,
  "metadata": {
    "colab": {
      "name": "balanceo_de_parentesis.ipynb",
      "provenance": [],
      "authorship_tag": "ABX9TyOa0PRNxBdvZ5RGW6IeeND9",
      "include_colab_link": true
    },
    "kernelspec": {
      "name": "python3",
      "display_name": "Python 3"
    }
  },
  "cells": [
    {
      "cell_type": "markdown",
      "metadata": {
        "id": "view-in-github",
        "colab_type": "text"
      },
      "source": [
        "<a href=\"https://colab.research.google.com/github/michelmunoz99/daa_2021_1/blob/master/balanceo_de_parentesis.ipynb\" target=\"_parent\"><img src=\"https://colab.research.google.com/assets/colab-badge.svg\" alt=\"Open In Colab\"/></a>"
      ]
    },
    {
      "cell_type": "markdown",
      "metadata": {
        "id": "h6QlwOLgWgqG"
      },
      "source": [
        "# Programa de balanceo de código\n",
        "\n",
        "Hacer un programa que valide el balanceo de paréntesis ( ), corchetes cuadrados [ ] y pico paréntesis { }\n",
        "\n",
        "*En programas del lengua C y Java (para generar pruebas)\n",
        "### Reglas:\n",
        "##### '(' ---> push('@')\n",
        "##### ')' ---> pop()\n",
        "Si al final del recorrido la pila está vacía, entonces la cadena es correcta.\n",
        "\n",
        "Si en un pop desencadena en querer sacar un elemento de la pila vacía, significa que la cadena no está balanceada."
      ]
    },
    {
      "cell_type": "markdown",
      "metadata": {
        "id": "-dC38XkiX5IL"
      },
      "source": [
        "~~~\n",
        "/* \n",
        "Autor: Michel MuÃ±oz.\n",
        "\n",
        "PropÃ³sito: Sumar dos nÃºmeros enteros.\n",
        "*/\n",
        "\n",
        "import javax.swing.JOptionPane;\n",
        "public class Suma{\n",
        "\n",
        "   public static void main(String[] args){\n",
        "\t\n",
        "\tString numero1, numero2;\n",
        "\tnumero1 = \n",
        "\tInteger.parseInt(\n",
        "\t\tJOptionPane.showInputDialog(\"numero1: \")\n",
        "\t\t);\n",
        "\n",
        "\tnumero2 = \n",
        "\tInteger.parseInt(\n",
        "\t\tJOptionPane.showInputDialog(\"numero2: \")\n",
        "\t\t);\n",
        "\n",
        "\tJOptionPane.showMessageDialog(null, \n",
        "\t(numero1 + numero2));\n",
        "\n",
        "}\n",
        "}\n",
        "~~~"
      ]
    },
    {
      "cell_type": "code",
      "metadata": {
        "id": "Cl_82gVwWbFg"
      },
      "source": [
        "class Stack:\n",
        "    def __init__( self ):\n",
        "        self._datos = []\n",
        "\n",
        "\n",
        "    def is_empty( self ):\n",
        "        return len(self._datos) == 0\n",
        "\n",
        "    def pop( self ):\n",
        "        return self._datos.pop()\n",
        "\n",
        "\n",
        "    def push( self, valor ):\n",
        "        self._datos.append(valor)\n",
        "\n"
      ],
      "execution_count": 1,
      "outputs": []
    },
    {
      "cell_type": "code",
      "metadata": {
        "id": "hYeEUwWrXOxV",
        "outputId": "642efdb4-11d4-4905-ecac-4ce853a69a6d",
        "colab": {
          "base_uri": "https://localhost:8080/"
        }
      },
      "source": [
        "pila = Stack()\n",
        "fichero = open('Suma.java')\n",
        "\n",
        "caracter = fichero.read(1)\n",
        "\n",
        "# Para leer nuestro archivo caracter por caracter usamos el método read con el parámetro 1 para que lo lea de 1 en 1\n",
        "\n",
        "while caracter != '':\n",
        "    caracter = fichero.read(1)\n",
        "    if caracter == '(' or caracter == '[' or caracter == '{':\n",
        "        pila.push('@')\n",
        "\n",
        "fichero = open('Suma.java')\n",
        "\n",
        "caracter = fichero.read(1)\n",
        "\n",
        "while caracter != '':\n",
        "    caracter = fichero.read(1)\n",
        "    if caracter == ')' or caracter == ']' or caracter == '}':\n",
        "        pila.pop()\n",
        "\n",
        "    \n",
        "print(f\"¿El código está balanceado?: {pila.is_empty()}\")\n"
      ],
      "execution_count": 7,
      "outputs": [
        {
          "output_type": "stream",
          "text": [
            "¿El código está balanceado?: True\n"
          ],
          "name": "stdout"
        }
      ]
    }
  ]
}