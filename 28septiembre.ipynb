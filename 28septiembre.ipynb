{
  "nbformat": 4,
  "nbformat_minor": 0,
  "metadata": {
    "colab": {
      "name": "28septiembre.ipynb",
      "provenance": [],
      "toc_visible": true,
      "authorship_tag": "ABX9TyPTSEIW/13NC9zsvgko5eNL",
      "include_colab_link": true
    },
    "kernelspec": {
      "name": "python3",
      "display_name": "Python 3"
    }
  },
  "cells": [
    {
      "cell_type": "markdown",
      "metadata": {
        "id": "view-in-github",
        "colab_type": "text"
      },
      "source": [
        "<a href=\"https://colab.research.google.com/github/michelmunoz99/daa_2021_1/blob/master/28septiembre.ipynb\" target=\"_parent\"><img src=\"https://colab.research.google.com/assets/colab-badge.svg\" alt=\"Open In Colab\"/></a>"
      ]
    },
    {
      "cell_type": "code",
      "metadata": {
        "id": "-LyGKomTCmjy"
      },
      "source": [
        ""
      ],
      "execution_count": null,
      "outputs": []
    },
    {
      "cell_type": "markdown",
      "metadata": {
        "id": "ttNo3HErC_4s"
      },
      "source": [
        "# Sección 1"
      ]
    },
    {
      "cell_type": "markdown",
      "metadata": {
        "id": "rUSM945oDK_A"
      },
      "source": [
        "En este archivo aprenderemos a programar en python con la herrmienta Google colab research.\n",
        "\n",
        "También aprenderemos a guardar nuestros cambios a nuestro repositorio de github.com"
      ]
    },
    {
      "cell_type": "markdown",
      "metadata": {
        "id": "5T7MQ9OYDyQe"
      },
      "source": [
        "## Código de ejemplo\n",
        "**negritas**\n",
        "_italica_\n",
        "<br>\n",
        "`edad = 10 print (\"edad\")`\n",
        "<!-- Esto es un comentario -->"
      ]
    },
    {
      "cell_type": "code",
      "metadata": {
        "id": "6viinr16Gc9w",
        "outputId": "f8878018-969f-49e1-ec3d-52e596ff66df",
        "colab": {
          "base_uri": "https://localhost:8080/",
          "height": 34
        }
      },
      "source": [
        "frutas = []\n",
        "frutas.append('Manzana')\n",
        "frutas.append('Piña')\n",
        "frutas.append('Kiwi')\n",
        "print(frutas)\n"
      ],
      "execution_count": 1,
      "outputs": [
        {
          "output_type": "stream",
          "text": [
            "['Manzana', 'Piña', 'Kiwi']\n"
          ],
          "name": "stdout"
        }
      ]
    },
    {
      "cell_type": "code",
      "metadata": {
        "id": "dGXFFkQKHsCs"
      },
      "source": [
        "archivo = open('prueba_daa.txt', 'wt')\n",
        "archivo.write('Hola Mundo Madrugador')\n",
        "archivo.close()\n"
      ],
      "execution_count": 2,
      "outputs": []
    }
  ]
}