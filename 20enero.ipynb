{
  "nbformat": 4,
  "nbformat_minor": 0,
  "metadata": {
    "colab": {
      "name": "20enero.ipynb",
      "provenance": [],
      "authorship_tag": "ABX9TyO+Uy1OhW0W2veKFdGEqibo",
      "include_colab_link": true
    },
    "kernelspec": {
      "name": "python3",
      "display_name": "Python 3"
    }
  },
  "cells": [
    {
      "cell_type": "markdown",
      "metadata": {
        "id": "view-in-github",
        "colab_type": "text"
      },
      "source": [
        "<a href=\"https://colab.research.google.com/github/michelmunoz99/daa_2021_1/blob/master/20enero.ipynb\" target=\"_parent\"><img src=\"https://colab.research.google.com/assets/colab-badge.svg\" alt=\"Open In Colab\"/></a>"
      ]
    },
    {
      "cell_type": "code",
      "metadata": {
        "id": "jDR--EdQiQT1"
      },
      "source": [
        "class NodoArbol:\n",
        " def __init__(self, value, left=None, right=None):\n",
        "  self.data=value\n",
        "  self.left=left\n",
        "  self.right=right\n",
        "  "
      ],
      "execution_count": 8,
      "outputs": []
    },
    {
      "cell_type": "code",
      "metadata": {
        "id": "8qGQDZtyi8v8"
      },
      "source": [
        "class BinarySearchTree:\n",
        "\n",
        "  def __init__(self):\n",
        "    self.__root=None\n",
        "\n",
        "  def insert(self, value):\n",
        "    if self.__root==None:\n",
        "       self.__root= NodoArbol(value,None,None)\n",
        "    else:\n",
        "      # preguntar si value es menor que root, de ser el caso\n",
        "      # insertar a la izq, pero puede ser el caso de que el \n",
        "      # sub arbol izq ya tenga muchos elementos\n",
        "      self.insert_nodo(self.__root,value)\n",
        "  \n",
        "  def insert_nodo(self,nodo,value):\n",
        "    if nodo.data==value:\n",
        "      pass\n",
        "    elif value<nodo.data: # True va a la izq\n",
        "      if nodo.left==None: # si hay espacio en la izq, ahi va\n",
        "        nodo.left=NodoArbol(value,None,None)#insertamos el nodo\n",
        "      else: \n",
        "        self.insert_nodo(nodo.left,value)# Buscar el sub arbol izq\n",
        "    else:\n",
        "      if nodo.right==None:\n",
        "        nodo.right=NodoArbol(value,None,None)\n",
        "      else:\n",
        "        self.insert_nodo(nodo.right,value)# Buscar en sub arbol der\n",
        "  \n",
        "  def buscar(self, value):\n",
        "     if self.__root==None:\n",
        "       return None\n",
        "     else:\n",
        "       # Haremos busqueda recursiva\n",
        "       return self.__busca_nodo(self.__root,value)\n",
        "  \n",
        "  def __busca_nodo(self,nodo,value):\n",
        "     if nodo ==None:\n",
        "       return None\n",
        "     elif nodo.data==value:\n",
        "       return nodo.data\n",
        "     elif value< nodo.data:\n",
        "       return self.__busca_nodo(nodo.left,value)\n",
        "     else:\n",
        "       return self.__busca_nodo(nodo.right,value) \n",
        "  \n",
        "  def transversal(self,format=\"inorden\"):\n",
        "    if format ==\"inorden\":\n",
        "      self.__recorrido_in(self.__root)\n",
        "    elif format==\"preorden\":\n",
        "      self.__recorrido_pre(self.__root)\n",
        "    elif format ==\"posorden\":\n",
        "      self.__recorrido_pos(self.__root)\n",
        "    else:\n",
        "      print(\"Formato de recorrido no válido\")\n",
        "  \n",
        "  def __recorrido_pre(self, nodo):\n",
        "    if nodo != None:\n",
        "      print(nodo.data, end=\",\")\n",
        "      self.__recorrido_pre(nodo.left)\n",
        "      self.__recorrido_pre(nodo.right)\n",
        "  \n",
        "  def __recorrido_in(self, nodo):\n",
        "    if nodo != None:\n",
        "      self.__recorrido_in(nodo.left)\n",
        "      print(nodo.data, end=\",\")\n",
        "      self.__recorrido_in(nodo.right)\n",
        "  \n",
        "  def __recorrido_pos(self, nodo):\n",
        "    if nodo!= None:\n",
        "      self.__recorrido_pos(nodo.left)\n",
        "      self.__recorrido_pos(nodo.right)\n",
        "      print(nodo.data, end=\",\")\n",
        "      "
      ],
      "execution_count": 9,
      "outputs": []
    },
    {
      "cell_type": "code",
      "metadata": {
        "colab": {
          "base_uri": "https://localhost:8080/"
        },
        "id": "E7stBjPHjJQd",
        "outputId": "f52dfd1b-a78c-4b80-9e4c-cbf28416db9f"
      },
      "source": [
        "bst=BinarySearchTree()\n",
        "bst.insert(50)\n",
        "bst.insert(30)\n",
        "bst.insert(20)\n",
        "res=bst.buscar(30)#true o false?\n",
        "print(\"Dato:\", str(res))\n",
        "print(bst.buscar(40))\n",
        "print(\"Recorrido:\")\n",
        "bst.transversal(format=\"preorden\")\n",
        "print(\"recorrido in orden:\")\n",
        "bst.transversal()\n",
        "print(\"recorrido pos:\")\n",
        "bst.transversal(format=\"pos\")\n"
      ],
      "execution_count": 10,
      "outputs": [
        {
          "output_type": "stream",
          "text": [
            "Dato: 30\n",
            "None\n",
            "Recorrido:\n",
            "50,30,20,recorrido in orden:\n",
            "20,30,50,recorrido pos:\n",
            "Formato de recorrido no válido\n"
          ],
          "name": "stdout"
        }
      ]
    }
  ]
}