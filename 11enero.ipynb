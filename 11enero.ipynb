{
  "nbformat": 4,
  "nbformat_minor": 0,
  "metadata": {
    "colab": {
      "name": "11enero.ipynb",
      "provenance": [],
      "authorship_tag": "ABX9TyMMoZFl96mr+Eljn/Z1D8uK",
      "include_colab_link": true
    },
    "kernelspec": {
      "name": "python3",
      "display_name": "Python 3"
    }
  },
  "cells": [
    {
      "cell_type": "markdown",
      "metadata": {
        "id": "view-in-github",
        "colab_type": "text"
      },
      "source": [
        "<a href=\"https://colab.research.google.com/github/michelmunoz99/daa_2021_1/blob/master/11enero.ipynb\" target=\"_parent\"><img src=\"https://colab.research.google.com/assets/colab-badge.svg\" alt=\"Open In Colab\"/></a>"
      ]
    },
    {
      "cell_type": "code",
      "metadata": {
        "id": "mcRonDkK7NGi"
      },
      "source": [
        "class NodoArbol():\n",
        "    def __init__( self, value, left=None, right=None ):\n",
        "        self.data = value\n",
        "        self.left = left\n",
        "        self.right = right\n",
        "        "
      ],
      "execution_count": 1,
      "outputs": []
    },
    {
      "cell_type": "code",
      "metadata": {
        "id": "L3VzYtQA8wBk"
      },
      "source": [
        "# Arbol Raiz con hijo C a la izquierda e hijo H a la derecha\n",
        "arbol = NodoArbol(\"R\", NodoArbol(\"C\"), NodoArbol(\"H\"))"
      ],
      "execution_count": 18,
      "outputs": []
    },
    {
      "cell_type": "code",
      "metadata": {
        "id": "mZRJR7bG9yU5"
      },
      "source": [
        "nodo1 = NodoArbol(\"C\")\n",
        "nodo2 = NodoArbol(\"H\")\n",
        "arbol_v2 = NodoArbol(\"R\", nodo1, nodo2)"
      ],
      "execution_count": 5,
      "outputs": []
    },
    {
      "cell_type": "code",
      "metadata": {
        "colab": {
          "base_uri": "https://localhost:8080/"
        },
        "id": "TOnlcjLV-Kv0",
        "outputId": "8bc775c3-042f-4133-c5fd-d60dd8394662"
      },
      "source": [
        "print(arbol.right.data)\n",
        "print(arbol_v2.right.data)"
      ],
      "execution_count": 7,
      "outputs": [
        {
          "output_type": "stream",
          "text": [
            "H\n",
            "H\n"
          ],
          "name": "stdout"
        }
      ]
    },
    {
      "cell_type": "code",
      "metadata": {
        "colab": {
          "base_uri": "https://localhost:8080/"
        },
        "id": "4ueNhiHn-0H5",
        "outputId": "f1f1141e-6d74-4162-c349-affdb3d4bddb"
      },
      "source": [
        "# Arbol Raiz 4 con hijo 3 >> 2 >> 2 por la izquierda e hijo 5 por la derecha\n",
        "arbol2 = NodoArbol(4, NodoArbol(3, NodoArbol(2, NodoArbol(2))), NodoArbol(5, None, None))\n",
        "print(arbol2.left.left.left.data)\n",
        "\n",
        "aux = arbol2\n",
        "while aux.left != None:\n",
        "    aux = aux.left\n",
        "\n",
        "print(aux.data)\n"
      ],
      "execution_count": 20,
      "outputs": [
        {
          "output_type": "stream",
          "text": [
            "2\n",
            "2\n"
          ],
          "name": "stdout"
        }
      ]
    },
    {
      "cell_type": "code",
      "metadata": {
        "colab": {
          "base_uri": "https://localhost:8080/"
        },
        "id": "GAjXOvz-ErfV",
        "outputId": "cf0a0dbc-bc8a-43af-d732-e40a8a1603b5"
      },
      "source": [
        "arbol3 = NodoArbol(\"Santi\", None, NodoArbol(\"Jesus\", NodoArbol(\"Pedro\", None, NodoArbol(\"Diana\")) , None))\n",
        "print(arbol3.right.left.right.data)\n"
      ],
      "execution_count": 21,
      "outputs": [
        {
          "output_type": "stream",
          "text": [
            "Diana\n"
          ],
          "name": "stdout"
        }
      ]
    }
  ]
}