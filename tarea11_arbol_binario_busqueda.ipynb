{
  "nbformat": 4,
  "nbformat_minor": 0,
  "metadata": {
    "colab": {
      "name": "tarea11_arbol_binario_busqueda.ipynb",
      "provenance": [],
      "authorship_tag": "ABX9TyMScOzk/PIALtxqaXCeYFzz",
      "include_colab_link": true
    },
    "kernelspec": {
      "name": "python3",
      "display_name": "Python 3"
    }
  },
  "cells": [
    {
      "cell_type": "markdown",
      "metadata": {
        "id": "view-in-github",
        "colab_type": "text"
      },
      "source": [
        "<a href=\"https://colab.research.google.com/github/michelmunoz99/daa_2021_1/blob/master/tarea11_arbol_binario_busqueda.ipynb\" target=\"_parent\"><img src=\"https://colab.research.google.com/assets/colab-badge.svg\" alt=\"Open In Colab\"/></a>"
      ]
    },
    {
      "cell_type": "code",
      "metadata": {
        "id": "FkqnmfX1m0Qk"
      },
      "source": [
        "class NodoArbol:\n",
        "    def __init__( self , dato ,  hijo_izq=None , hijo_der=None):\n",
        "        self.dato = dato\n",
        "        self.left = hijo_izq\n",
        "        self.right = hijo_der\n"
      ],
      "execution_count": 2,
      "outputs": []
    },
    {
      "cell_type": "markdown",
      "metadata": {
        "id": "0CAvsNrznEaR"
      },
      "source": [
        "####Arbol Binario de busqueda\n",
        "Los nodos a la izquierda son menores a la raíz y los nodos a la derecha son mayores a la raíz.\n"
      ]
    },
    {
      "cell_type": "code",
      "metadata": {
        "id": "SbtWHKiKnOKl"
      },
      "source": [
        "class BinarySearchTree:\n",
        "    def __init__( self ):\n",
        "        self.__root = None\n",
        "\n",
        "\n",
        "    def insert( self , value ):\n",
        "        if self.__root == None:\n",
        "            self.__root = NodoArbol(value,None,None)\n",
        "        else:\n",
        "            #Preguntar si value es menor que root, de ser el caso\n",
        "            #insertar a la izq... Pero puede ser el caso que el\n",
        "            #sub arbol izq ya tenga muchos elementos\n",
        "            self.__insert_nodo__(self.__root , value)\n",
        "\n",
        "\n",
        "    def __insert_nodo__( self , nodo , value ):\n",
        "        if nodo.dato == value:\n",
        "            pass\n",
        "        elif value < nodo.dato: #Si es True va a la izquierda\n",
        "            if nodo.left == None: #Si hay espacio en la izquierda, ahi le toca\n",
        "                nodo.left = NodoArbol(value,None,None) #Insertamos el Nodo\n",
        "            else: \n",
        "                self.__insert_nodo__( nodo.left , value )#Buscar su posicion en subarbol izquierdo\n",
        "        else: #Ir a la derecha\n",
        "            if nodo.right == None:\n",
        "                nodo.right =  NodoArbol(value,None,None)\n",
        "            else: \n",
        "                self.__insert_nodo__(nodo.right,value)#Buscar su posicion en subarbol derecho \n",
        "\n",
        "\n",
        "    def buscar( self , value ):\n",
        "          if self.__root == None:\n",
        "              return None\n",
        "          else:\n",
        "              return self.__busca_nodo( self.__root , value )\n",
        "\n",
        "\n",
        "    def __busca_nodo( self , nodo , value ):\n",
        "          if nodo == None: \n",
        "              return None\n",
        "          elif nodo.dato == value:\n",
        "              return nodo.dato\n",
        "          elif value < nodo.dato:\n",
        "              return self.__busca_nodo( nodo.left , value )\n",
        "          else:\n",
        "              return self.__busca_nodo( nodo.right , value )\n",
        "    \n",
        "\n",
        "    def transversal( self , format = \"inorden\" ):\n",
        "        if format == \"inorden\":\n",
        "            self.__recorrido_in(self.__root)\n",
        "        elif format == \"preorden\" :\n",
        "            self.__recorrido_pre(self.__root)\n",
        "        elif format ==\"posorden\":\n",
        "            self.__recorrido_pos(self.__root)\n",
        "        else: \n",
        "          print(\"Formato de recorrido no valido\")\n",
        "\n",
        "\n",
        "    def __recorrido_pre(self , nodo):\n",
        "        if nodo != None:\n",
        "            print (nodo.dato, end=\",\")\n",
        "            self.__recorrido_pre(nodo.left)\n",
        "            self.__recorrido_pre(nodo.right)\n",
        "\n",
        "\n",
        "    def __recorrido_in(self, nodo):\n",
        "        if nodo != None:\n",
        "            self.__recorrido_in(nodo.left)\n",
        "            print(nodo.dato, end=\",\")\n",
        "            self.__recorrido_in(nodo.right)\n",
        "\n",
        "\n",
        "    def __recorrido_pos(self,nodo):\n",
        "        if nodo != None:\n",
        "            self.__recorrido_pos(nodo.left)\n",
        "            self.__recorrido_pos(nodo.right)\n",
        "            print(nodo.dato, end=\",\")\n",
        "\n"
      ],
      "execution_count": 3,
      "outputs": []
    },
    {
      "cell_type": "code",
      "metadata": {
        "colab": {
          "base_uri": "https://localhost:8080/"
        },
        "id": "yBGk-9dSn6v9",
        "outputId": "86757bb4-427e-4548-b80a-cb0aecf3c65b"
      },
      "source": [
        "bst = BinarySearchTree()\n",
        "bst.insert(50)\n",
        "bst.insert(30)\n",
        "bst.insert(85)\n",
        "bst.insert(100)\n",
        "bst.insert(40)\n",
        "#bst.insert(100)\n",
        "bst.insert(80)\n",
        "bst.insert(90)\n",
        "bst.insert(45)\n",
        "bst.insert(95)\n",
        "bst.insert(30)\n",
        "res = bst.buscar(30)#True or False\n",
        "print(\"dato: \", res)\n",
        "print(bst.buscar(40))\n",
        "print(bst.buscar(14))\n",
        "print(\"recorrido: \")\n",
        "print(\"preorden\")\n",
        "bst.transversal(format=\"preorden\")\n",
        "print(\"\\ninorden\")\n",
        "bst.transversal(format=\"inorden\")\n",
        "print(\"\\nposorden\")\n",
        "bst.transversal(format=\"posorden\")\n"
      ],
      "execution_count": 18,
      "outputs": [
        {
          "output_type": "stream",
          "text": [
            "dato:  30\n",
            "40\n",
            "None\n",
            "recorrido: \n",
            "preorden\n",
            "50,30,40,45,85,80,100,90,95,\n",
            "inorden\n",
            "30,40,45,50,80,85,90,95,100,\n",
            "posorden\n",
            "45,40,30,80,95,90,100,85,50,"
          ],
          "name": "stdout"
        }
      ]
    },
    {
      "cell_type": "markdown",
      "metadata": {
        "id": "Y5oEi3OepTDn"
      },
      "source": [
        "1)  \n",
        "Dato: 30  \n",
        "40  \n",
        "None  \n",
        "recorrido:   \n",
        "Preorden  \n",
        "50,30,40,45,85,80,100,90,95,  \n",
        "Inorden  \n",
        "30,40,45,50,80,85,90,95,100,  \n",
        "Posorden  \n",
        "45,40,30,80,95,90,100,85,50,  \n",
        "\n",
        "2)  \n",
        "Dato: 30  \n",
        "40  \n",
        "None  \n",
        "recorrido:   \n",
        "Preorden  \n",
        "50,30,40,45,85,80,100,90,95,  \n",
        "Inorden  \n",
        "30,40,45,50,80,85,90,95,100,  \n",
        "Posorden  \n",
        "45,40,30,80,95,90,100,85,50,"
      ]
    }
  ]
}