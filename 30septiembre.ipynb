{
  "nbformat": 4,
  "nbformat_minor": 0,
  "metadata": {
    "colab": {
      "name": "30septiembre.ipynb",
      "provenance": [],
      "authorship_tag": "ABX9TyNgbh3EHrKop5JT2ngEW5+e",
      "include_colab_link": true
    },
    "kernelspec": {
      "name": "python3",
      "display_name": "Python 3"
    }
  },
  "cells": [
    {
      "cell_type": "markdown",
      "metadata": {
        "id": "view-in-github",
        "colab_type": "text"
      },
      "source": [
        "<a href=\"https://colab.research.google.com/github/michelmunoz99/daa_2021_1/blob/master/30septiembre.ipynb\" target=\"_parent\"><img src=\"https://colab.research.google.com/assets/colab-badge.svg\" alt=\"Open In Colab\"/></a>"
      ]
    },
    {
      "cell_type": "markdown",
      "metadata": {
        "id": "JMkbh8-yQHr9"
      },
      "source": [
        "# Palíndromos\n",
        "Es una palabra que se lee de igual forma de un sentido y de sentido inverso, ejemplo:\n",
        "1. sugus\n",
        "2. oso\n",
        "3. reconocer\n",
        "4. 10101\n",
        "5. 10:01\n",
        "\n",
        "### Planteamiento del problema\n",
        "Se desea encontrar todos los palíndromos que existen en la franja horaria de un día completo, tomando como horario inicial, las 00:00 horas y como horario final las 23:59 horas.\n",
        "\n",
        "El algoritmo debe mostrar en pantalla todos los palíndromos existentes en ese rango, al final debe mostrar el conteo del total de palíndromos existentes."
      ]
    },
    {
      "cell_type": "code",
      "metadata": {
        "id": "TCxUCiqhP9u-",
        "outputId": "c3a8cd89-9c8e-40f2-9c50-899a444f61ef",
        "colab": {
          "base_uri": "https://localhost:8080/",
          "height": 306
        }
      },
      "source": [
        "# Solución\n",
        "\n",
        "\n",
        "def main():\n",
        "    horas = [\"00\", \"01\", \"02\", \"03\", \"04\", \"05\", \"06\", \"07\", \"08\", \"09\", \"10\", \"11\", \"12\", \"13\", \"14\", \"15\", \"16\"\n",
        "          , \"17\", \"18\", \"19\", \"20\", \"21\", \"22\", \"23\"]\n",
        "\n",
        "    minutos = [\"00\", \"01\", \"02\", \"03\", \"04\", \"05\", \"06\", \"07\", \"08\", \"09\", \"10\", \"11\", \"12\", \"13\", \"14\", \"15\",\n",
        "               \"16\", \"17\", \"18\", \"19\", \"20\", \"21\", \"22\", \"23\", \"24\", \"25\", \"26\", \"27\", \"28\", \"29\", \"30\", \"31\",\n",
        "               \"32\", \"33\", \"34\", \"35\", \"36\", \"37\", \"38\", \"39\", \"40\", \"41\", \"42\", \"43\", \"44\", \"45\", \"46\", \"47\",\n",
        "               \"48\", \"49\", \"50\", \"51\", \"52\", \"53\", \"54\", \"55\", \"56\", \"57\", \"58\", \"59\"]\n",
        "\n",
        "\n",
        "    for i in range(len(horas)):\n",
        "      for j in range(len(minutos)):\n",
        "        hora = horas[i] + \":\" + minutos[j]\n",
        "        hora_invertida = hora[::-1]\n",
        "        if hora == hora_invertida:\n",
        "          print(\"Es palíndromo: \" + hora)\n",
        "print(\"Hay 16 palíndromos: \")\n",
        "\n",
        "\n",
        "\n",
        "if __name__ == '__main__':\n",
        "    main()"
      ],
      "execution_count": 66,
      "outputs": [
        {
          "output_type": "stream",
          "text": [
            "Hay 16 palíndromos: \n",
            "Es palíndromo: 00:00\n",
            "Es palíndromo: 01:10\n",
            "Es palíndromo: 02:20\n",
            "Es palíndromo: 03:30\n",
            "Es palíndromo: 04:40\n",
            "Es palíndromo: 05:50\n",
            "Es palíndromo: 10:01\n",
            "Es palíndromo: 11:11\n",
            "Es palíndromo: 12:21\n",
            "Es palíndromo: 13:31\n",
            "Es palíndromo: 14:41\n",
            "Es palíndromo: 15:51\n",
            "Es palíndromo: 20:02\n",
            "Es palíndromo: 21:12\n",
            "Es palíndromo: 22:22\n",
            "Es palíndromo: 23:32\n"
          ],
          "name": "stdout"
        }
      ]
    }
  ]
}