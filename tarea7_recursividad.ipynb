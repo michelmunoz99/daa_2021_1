{
  "nbformat": 4,
  "nbformat_minor": 0,
  "metadata": {
    "colab": {
      "name": "tarea7_recursividad.ipynb",
      "provenance": [],
      "authorship_tag": "ABX9TyP7X1cjHwFHEVeJcNQnGQH6",
      "include_colab_link": true
    },
    "kernelspec": {
      "name": "python3",
      "display_name": "Python 3"
    }
  },
  "cells": [
    {
      "cell_type": "markdown",
      "metadata": {
        "id": "view-in-github",
        "colab_type": "text"
      },
      "source": [
        "<a href=\"https://colab.research.google.com/github/michelmunoz99/daa_2021_1/blob/master/tarea7_recursividad.ipynb\" target=\"_parent\"><img src=\"https://colab.research.google.com/assets/colab-badge.svg\" alt=\"Open In Colab\"/></a>"
      ]
    },
    {
      "cell_type": "code",
      "metadata": {
        "colab": {
          "base_uri": "https://localhost:8080/"
        },
        "id": "LQxWOHm4JnxZ",
        "outputId": "0f87a518-f8e6-4684-db48-5ae5f24adb3d"
      },
      "source": [
        "lista = [27, 32, 6, 12, 3, 2, 18]\n",
        "\n",
        "def sumaRec(lista, id, cont):\n",
        "    if id < len(lista):\n",
        "        cont += lista[id]\n",
        "        sumaRec(lista, id + 1, cont)\n",
        "    if id == len(lista)-1:\n",
        "        print(cont)\n",
        "sumaRec(lista,0,0)  \n"
      ],
      "execution_count": 8,
      "outputs": [
        {
          "output_type": "stream",
          "text": [
            "100\n"
          ],
          "name": "stdout"
        }
      ]
    },
    {
      "cell_type": "code",
      "metadata": {
        "colab": {
          "base_uri": "https://localhost:8080/"
        },
        "id": "8kLrKBA2CXud",
        "outputId": "35c66090-61de-469a-e0d9-91d0f7338893"
      },
      "source": [
        "def contador(x):\n",
        "    if x > 0:\n",
        "        print(x)\n",
        "        contador(x-1)\n",
        "\n",
        "contador(5)"
      ],
      "execution_count": 11,
      "outputs": [
        {
          "output_type": "stream",
          "text": [
            "5\n",
            "4\n",
            "3\n",
            "2\n",
            "1\n"
          ],
          "name": "stdout"
        }
      ]
    },
    {
      "cell_type": "code",
      "metadata": {
        "colab": {
          "base_uri": "https://localhost:8080/"
        },
        "id": "IENvDb-QCpBw",
        "outputId": "c41219bf-c219-406c-99bf-1818f872aab8"
      },
      "source": [
        "lista_a = [27, 32, 6, 12, 3, 2, 18]\n",
        "\n",
        "def ordenar(lista):\n",
        "    if len(lista) <= 1:\n",
        "        return lista\n",
        "    else:\n",
        "        return ordenar([i for i in lista[1:] if i <= lista[0]]) + [lista[0]] + ordenar([i for i in lista[1:] if i > lista[0]])\n",
        "\n",
        "ordenar(lista_a)"
      ],
      "execution_count": 24,
      "outputs": [
        {
          "output_type": "execute_result",
          "data": {
            "text/plain": [
              "[2, 3, 6, 12, 18, 27, 32]"
            ]
          },
          "metadata": {
            "tags": []
          },
          "execution_count": 24
        }
      ]
    }
  ]
}