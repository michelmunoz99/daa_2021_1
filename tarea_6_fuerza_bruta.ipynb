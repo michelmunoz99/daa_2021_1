{
  "nbformat": 4,
  "nbformat_minor": 0,
  "metadata": {
    "colab": {
      "name": "tarea_6_fuerza_bruta.ipynb",
      "provenance": [],
      "collapsed_sections": [],
      "authorship_tag": "ABX9TyNHIw7nqrpVQnzAzxxyk2nA",
      "include_colab_link": true
    },
    "kernelspec": {
      "name": "python3",
      "display_name": "Python 3"
    }
  },
  "cells": [
    {
      "cell_type": "markdown",
      "metadata": {
        "id": "view-in-github",
        "colab_type": "text"
      },
      "source": [
        "<a href=\"https://colab.research.google.com/github/michelmunoz99/daa_2021_1/blob/master/tarea_6_fuerza_bruta.ipynb\" target=\"_parent\"><img src=\"https://colab.research.google.com/assets/colab-badge.svg\" alt=\"Open In Colab\"/></a>"
      ]
    },
    {
      "cell_type": "markdown",
      "metadata": {
        "id": "uGCrQ77sY5ff"
      },
      "source": [
        "## Fuerza bruta\n",
        "Realizar un Programa que encuentre la frecuencia de aparición de todas las palabras del siguiente texto por fuerza bruta.\n",
        "\n",
        "El lema que anima a la Universidad Nacional, Por mi raza hablará el espíritu, revela la vocación humanística con la que fue concebida. El autor de esta célebre frase, José Vasconcelos, asumió la rectoría en 1920, en una época en que las esperanzas de la Revolución aún estaban vivas,\n",
        " había una gran fe en la Patria y el ánimo redentor se extendía en el ambiente.\n",
        "\n",
        " Normalizar:\n",
        "\n",
        "*Convertir en minúsculas, y quitar signos de puntuación.\n",
        "\n",
        "*Para normalizar el texto también hay que programarlo\n"
      ]
    },
    {
      "cell_type": "code",
      "metadata": {
        "cellView": "code",
        "id": "oDOt9WbOkEeM"
      },
      "source": [
        "frase = \"El lema que anima a la Universidad Nacional, Por mi raza hablará el espíritu, revela la vocación humanística con la que fue concebida. El autor de esta célebre frase, José Vasconcelos, asumió la rectoría en 1920, en una época en que las esperanzas de la Revolución aún estaban vivas, había una gran fe en la Patria y el ánimo redentor se extendía en el ambiente.\"\n",
        "\n",
        "quitar = (\",\", \".\")\n",
        "frase = frase.lower()\n",
        "nueva_frase = \"\" \n",
        "for i in frase:\n",
        "    if not i in quitar:\n",
        "        nueva_frase += i\n",
        "print(nueva_frase)\n",
        "print(\"--------------------------------------------------------------------------------------------------------------\")\n",
        "\n",
        "palabras = nueva_frase.split(\" \")\n",
        "print(palabras)\n",
        "\n",
        "frecuencias = {}\n",
        "for i in palabras:\n",
        "    if i in frecuencias:\n",
        "        frecuencias[i] += 1\n",
        "    else:\n",
        "        frecuencias[i] = 1\n",
        "\n",
        "for i in frecuencias:\n",
        "    frecuencia = frecuencias[i]\n",
        "    print(f\"'{i}' aparece '{frecuencia}' veces\")"
      ],
      "execution_count": null,
      "outputs": []
    }
  ]
}