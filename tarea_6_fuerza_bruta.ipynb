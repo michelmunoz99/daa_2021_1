{
  "nbformat": 4,
  "nbformat_minor": 0,
  "metadata": {
    "colab": {
      "name": "tarea_6_fuerza_bruta.ipynb",
      "provenance": [],
      "collapsed_sections": [],
      "authorship_tag": "ABX9TyNHIw7nqrpVQnzAzxxyk2nA",
      "include_colab_link": true
    },
    "kernelspec": {
      "name": "python3",
      "display_name": "Python 3"
    }
  },
  "cells": [
    {
      "cell_type": "markdown",
      "metadata": {
        "id": "view-in-github",
        "colab_type": "text"
      },
      "source": [
        "<a href=\"https://colab.research.google.com/github/michelmunoz99/daa_2021_1/blob/master/tarea_6_fuerza_bruta.ipynb\" target=\"_parent\"><img src=\"https://colab.research.google.com/assets/colab-badge.svg\" alt=\"Open In Colab\"/></a>"
      ]
    },
    {
      "cell_type": "markdown",
      "metadata": {
        "id": "uGCrQ77sY5ff"
      },
      "source": [
        "## Fuerza bruta\n",
        "Realizar un Programa que encuentre la frecuencia de aparición de todas las palabras del siguiente texto por fuerza bruta.\n",
        "\n",
        "El lema que anima a la Universidad Nacional, Por mi raza hablará el espíritu, revela la vocación humanística con la que fue concebida. El autor de esta célebre frase, José Vasconcelos, asumió la rectoría en 1920, en una época en que las esperanzas de la Revolución aún estaban vivas,\n",
        " había una gran fe en la Patria y el ánimo redentor se extendía en el ambiente.\n",
        "\n",
        " Normalizar:\n",
        "\n",
        "*Convertir en minúsculas, y quitar signos de puntuación.\n",
        "\n",
        "*Para normalizar el texto también hay que programarlo\n"
      ]
    },
    {
      "cell_type": "code",
      "metadata": {
        "cellView": "code",
        "id": "oDOt9WbOkEeM",
        "colab": {
          "base_uri": "https://localhost:8080/"
        },
        "outputId": "b1b0c101-e74a-4ede-82df-21c27bea22c6"
      },
      "source": [
        "frase = \"El lema que anima a la Universidad Nacional, Por mi raza hablará el espíritu, revela la vocación humanística con la que fue concebida. El autor de esta célebre frase, José Vasconcelos, asumió la rectoría en 1920, en una época en que las esperanzas de la Revolución aún estaban vivas, había una gran fe en la Patria y el ánimo redentor se extendía en el ambiente.\"\n",
        "\n",
        "quitar = (\",\", \".\")\n",
        "frase = frase.lower()\n",
        "nueva_frase = \"\" \n",
        "for i in frase:\n",
        "    if not i in quitar:\n",
        "        nueva_frase += i\n",
        "print(nueva_frase)\n",
        "print(\"--------------------------------------------------------------------------------------------------------------\")\n",
        "\n",
        "palabras = nueva_frase.split(\" \")\n",
        "print(palabras)\n",
        "\n",
        "frecuencias = {}\n",
        "for i in palabras:\n",
        "    if i in frecuencias:\n",
        "        frecuencias[i] += 1\n",
        "    else:\n",
        "        frecuencias[i] = 1\n",
        "\n",
        "for i in frecuencias:\n",
        "    frecuencia = frecuencias[i]\n",
        "    print(f\"'{i}' aparece '{frecuencia}' veces\")"
      ],
      "execution_count": 1,
      "outputs": [
        {
          "output_type": "stream",
          "text": [
            "el lema que anima a la universidad nacional por mi raza hablará el espíritu revela la vocación humanística con la que fue concebida el autor de esta célebre frase josé vasconcelos asumió la rectoría en 1920 en una época en que las esperanzas de la revolución aún estaban vivas había una gran fe en la patria y el ánimo redentor se extendía en el ambiente\n",
            "--------------------------------------------------------------------------------------------------------------\n",
            "['el', 'lema', 'que', 'anima', 'a', 'la', 'universidad', 'nacional', 'por', 'mi', 'raza', 'hablará', 'el', 'espíritu', 'revela', 'la', 'vocación', 'humanística', 'con', 'la', 'que', 'fue', 'concebida', 'el', 'autor', 'de', 'esta', 'célebre', 'frase', 'josé', 'vasconcelos', 'asumió', 'la', 'rectoría', 'en', '1920', 'en', 'una', 'época', 'en', 'que', 'las', 'esperanzas', 'de', 'la', 'revolución', 'aún', 'estaban', 'vivas', 'había', 'una', 'gran', 'fe', 'en', 'la', 'patria', 'y', 'el', 'ánimo', 'redentor', 'se', 'extendía', 'en', 'el', 'ambiente']\n",
            "'el' aparece '5' veces\n",
            "'lema' aparece '1' veces\n",
            "'que' aparece '3' veces\n",
            "'anima' aparece '1' veces\n",
            "'a' aparece '1' veces\n",
            "'la' aparece '6' veces\n",
            "'universidad' aparece '1' veces\n",
            "'nacional' aparece '1' veces\n",
            "'por' aparece '1' veces\n",
            "'mi' aparece '1' veces\n",
            "'raza' aparece '1' veces\n",
            "'hablará' aparece '1' veces\n",
            "'espíritu' aparece '1' veces\n",
            "'revela' aparece '1' veces\n",
            "'vocación' aparece '1' veces\n",
            "'humanística' aparece '1' veces\n",
            "'con' aparece '1' veces\n",
            "'fue' aparece '1' veces\n",
            "'concebida' aparece '1' veces\n",
            "'autor' aparece '1' veces\n",
            "'de' aparece '2' veces\n",
            "'esta' aparece '1' veces\n",
            "'célebre' aparece '1' veces\n",
            "'frase' aparece '1' veces\n",
            "'josé' aparece '1' veces\n",
            "'vasconcelos' aparece '1' veces\n",
            "'asumió' aparece '1' veces\n",
            "'rectoría' aparece '1' veces\n",
            "'en' aparece '5' veces\n",
            "'1920' aparece '1' veces\n",
            "'una' aparece '2' veces\n",
            "'época' aparece '1' veces\n",
            "'las' aparece '1' veces\n",
            "'esperanzas' aparece '1' veces\n",
            "'revolución' aparece '1' veces\n",
            "'aún' aparece '1' veces\n",
            "'estaban' aparece '1' veces\n",
            "'vivas' aparece '1' veces\n",
            "'había' aparece '1' veces\n",
            "'gran' aparece '1' veces\n",
            "'fe' aparece '1' veces\n",
            "'patria' aparece '1' veces\n",
            "'y' aparece '1' veces\n",
            "'ánimo' aparece '1' veces\n",
            "'redentor' aparece '1' veces\n",
            "'se' aparece '1' veces\n",
            "'extendía' aparece '1' veces\n",
            "'ambiente' aparece '1' veces\n"
          ],
          "name": "stdout"
        }
      ]
    }
  ]
}