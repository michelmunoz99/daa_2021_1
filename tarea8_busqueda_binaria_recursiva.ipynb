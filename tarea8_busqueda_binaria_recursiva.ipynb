{
  "nbformat": 4,
  "nbformat_minor": 0,
  "metadata": {
    "colab": {
      "name": "tarea8_busqueda_binaria_recursiva.ipynb",
      "provenance": [],
      "authorship_tag": "ABX9TyOCBbiRnUu7ej/39ENowsCg",
      "include_colab_link": true
    },
    "kernelspec": {
      "name": "python3",
      "display_name": "Python 3"
    }
  },
  "cells": [
    {
      "cell_type": "markdown",
      "metadata": {
        "id": "view-in-github",
        "colab_type": "text"
      },
      "source": [
        "<a href=\"https://colab.research.google.com/github/michelmunoz99/daa_2021_1/blob/master/tarea8_busqueda_binaria_recursiva.ipynb\" target=\"_parent\"><img src=\"https://colab.research.google.com/assets/colab-badge.svg\" alt=\"Open In Colab\"/></a>"
      ]
    },
    {
      "cell_type": "code",
      "metadata": {
        "colab": {
          "base_uri": "https://localhost:8080/"
        },
        "id": "Dx3F0vTalpMB",
        "outputId": "0b974d02-e962-417b-b024-d46d5b53e1d9"
      },
      "source": [
        "# Binary search (Recursive)\n",
        "# Búsqueda binaria (Recursiva)\n",
        "\n",
        "def binary_search_rec(array, x, left, right):\n",
        "    if left > right:\n",
        "        return -1\n",
        "    \n",
        "    mid = (left + right) // 2\n",
        "    if array[mid] == x:\n",
        "        return mid\n",
        "    elif array[mid] > x:\n",
        "        return binary_search_rec(array, x, left, mid - 1)\n",
        "    else:\n",
        "        return binary_search_rec(array, x, mid + 1, right)\n",
        "\n",
        "\n",
        "array = [1,2,3,4,5]\n",
        "x = int(input(\"Ingrese elemento para encontrar su índice: \"))\n",
        "print(f\"Elemento '{x}' encontrado en la posición: {binary_search_rec(array, x, 0, len(array) - 1)}\")\n"
      ],
      "execution_count": 17,
      "outputs": [
        {
          "output_type": "stream",
          "text": [
            "Ingrese elemento para encontrar su índice: 4\n",
            "Elemento '4' encontrado en la posición: 3\n"
          ],
          "name": "stdout"
        }
      ]
    },
    {
      "cell_type": "code",
      "metadata": {
        "colab": {
          "base_uri": "https://localhost:8080/"
        },
        "id": "iT13X4s1gtfD",
        "outputId": "ab88b0c9-174f-46fd-dfc7-cca9caf55ecf"
      },
      "source": [
        "# Binary search (No recursive)\n",
        "# Búsqueda binaria (No recursiva)\n",
        "\n",
        "\n",
        "def binary_search(array, x):\n",
        "    left = 0\n",
        "    right = len(array) - 1\n",
        "\n",
        "    while left <= right:\n",
        "        mid = (left + right) // 2\n",
        "\n",
        "        if array[mid] == x:\n",
        "            return mid\n",
        "        elif array[mid] > x:\n",
        "            right = mid - 1\n",
        "        else:\n",
        "            left = mid + 1\n",
        "\n",
        "    return -1\n",
        "\n",
        "\n",
        "array = [1,2,3,4,5]\n",
        "x = int(input(\"Ingrese elemento para encontrar su índice: \"))\n",
        "print(f\"Elemento '{x}' encontrado en la posición: {binary_search(array, x)}\")\n"
      ],
      "execution_count": 18,
      "outputs": [
        {
          "output_type": "stream",
          "text": [
            "Ingrese elemento para encontrar su índice: 2\n",
            "Elemento '2' encontrado en la posición: 1\n"
          ],
          "name": "stdout"
        }
      ]
    }
  ]
}