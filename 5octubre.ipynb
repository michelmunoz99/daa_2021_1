{
  "nbformat": 4,
  "nbformat_minor": 0,
  "metadata": {
    "colab": {
      "name": "5octubre.ipynb",
      "provenance": [],
      "collapsed_sections": [],
      "authorship_tag": "ABX9TyMzsvfXlS7xDqvWnM2n+CEM",
      "include_colab_link": true
    },
    "kernelspec": {
      "name": "python3",
      "display_name": "Python 3"
    }
  },
  "cells": [
    {
      "cell_type": "markdown",
      "metadata": {
        "id": "view-in-github",
        "colab_type": "text"
      },
      "source": [
        "<a href=\"https://colab.research.google.com/github/michelmunoz99/daa_2021_1/blob/master/5octubre.ipynb\" target=\"_parent\"><img src=\"https://colab.research.google.com/assets/colab-badge.svg\" alt=\"Open In Colab\"/></a>"
      ]
    },
    {
      "cell_type": "markdown",
      "metadata": {
        "id": "Xc_s8BqsABHS"
      },
      "source": [
        "# Estructura de datos Pila (Stack)\n",
        "- Last In First Out (LIFO)\n",
        "- De tipo lineal\n",
        "- Se pueden obtener e ingresar datos desde de tope\n",
        "- push para agregar\n",
        "- pop para sacar\n",
        "\n",
        "## Operaciones de las pilas\n",
        "\n",
        "1. is_empty() regresa True o False\n",
        "1. get_top() regresa el elemento en el tope sin sacarlo\n",
        "1. pop() saca el elemento del tope y lo regresa\n",
        "1. push() mete un elemento en el tope\n",
        "1. get_length() regresa el número de elementos en la pila"
      ]
    },
    {
      "cell_type": "code",
      "metadata": {
        "id": "CqkzpOMN_MuH"
      },
      "source": [
        "class Stack:\n",
        "  def __init__( self ):\n",
        "    self._datos = []\n",
        "\n",
        "  \n",
        "  def is_empty( self ):\n",
        "    return len(self._datos) == 0\n",
        "\n",
        "  \n",
        "  def get_top( self ):\n",
        "    return self._datos[-1] # Para obtener el último elemento\n",
        "  \n",
        "\n",
        "  def pop( self ):\n",
        "    return self._datos.pop()\n",
        "\n",
        "  \n",
        "  def push( self, valor ):\n",
        "    self._datos.append(valor)\n",
        "  \n",
        "\n",
        "  def get_length( self ):\n",
        "    return len(self._datos)\n",
        "  \n",
        "\n",
        "  def to_string( self ):\n",
        "    print(\"----------------\")\n",
        "    for ele in self._datos[-1::-1]:\n",
        "      print(f\" { ele } \")\n",
        "    print(\"----------------\\n\")"
      ],
      "execution_count": 13,
      "outputs": []
    },
    {
      "cell_type": "code",
      "metadata": {
        "id": "ziqUPNuAIfqv",
        "outputId": "2602321b-fc85-40cd-8d64-b865424a0836",
        "colab": {
          "base_uri": "https://localhost:8080/",
          "height": 204
        }
      },
      "source": [
        "pila1 = Stack()\n",
        "pila1.push(10)\n",
        "pila1.push(20)\n",
        "pila1.push(1)\n",
        "pila1.push(393)\n",
        "pila1.push(103)\n",
        "pila1.to_string\n",
        "\n",
        "sacado = pila1.pop()\n",
        "print(sacado)\n",
        "pila1.to_string()\n",
        "\n",
        "pila1.push(444)\n",
        "pila1.push(233)\n",
        "pila1.to_string\n",
        "\n",
        "print(f\"El elemento en el tope es: {pila1.get_top()}\")\n",
        "pila1.to_string\n",
        "print(f\"La pila tiene: {pila1.get_length()} elementos\")\n",
        "print(f\"La pila está vacía?: {pila1.is_empty()}\")"
      ],
      "execution_count": 15,
      "outputs": [
        {
          "output_type": "stream",
          "text": [
            "103\n",
            "----------------\n",
            " 393 \n",
            " 1 \n",
            " 20 \n",
            " 10 \n",
            "----------------\n",
            "\n",
            "El elemento en el tope es: 233\n",
            "La pila tiene: 6 elementos\n",
            "La pila está vacía?: False\n"
          ],
          "name": "stdout"
        }
      ]
    },
    {
      "cell_type": "markdown",
      "metadata": {
        "id": "vHTqHqSwIwV2"
      },
      "source": [
        "# Ejemplo de aplicación de pilas\n",
        "\n",
        "x = 4 + 5 + 6 + 3 --> balanceada\n",
        "\n",
        "x = 4 + (5 + 6) + 3 --> balanceada\n",
        "\n",
        "x = 4 + 5 + 6) + 3 --> no balanceada\n",
        "\n",
        "x = (4 + (5 + 6) + 3) --> balanceada\n",
        "\n",
        "if (a == b) {System.out.println(b) --> no balanceada\n",
        "\n",
        "if (a == b) {System.out.println(b)} --> balanceada\n",
        "\n",
        "## reglas\n",
        "##### '(' ---> push('@')\n",
        "##### ')' ---> pop()\n",
        "Si al final del recorrido la pila está vacía, entonces la cadena es correcta.\n",
        "\n",
        "Si en un pop desencadena en querer sacar un elemento de la pila vacía, significa que la cadena no está balanceada.\n"
      ]
    }
  ]
}